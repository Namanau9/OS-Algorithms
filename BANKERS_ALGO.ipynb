{
  "nbformat": 4,
  "nbformat_minor": 0,
  "metadata": {
    "colab": {
      "provenance": [],
      "authorship_tag": "ABX9TyODZ+ALWjkEjo/dpr1pcAlX",
      "include_colab_link": true
    },
    "kernelspec": {
      "name": "python3",
      "display_name": "Python 3"
    },
    "language_info": {
      "name": "python"
    }
  },
  "cells": [
    {
      "cell_type": "markdown",
      "metadata": {
        "id": "view-in-github",
        "colab_type": "text"
      },
      "source": [
        "<a href=\"https://colab.research.google.com/github/Namanau9/OS-Algorithms/blob/main/BANKERS_ALGO.ipynb\" target=\"_parent\"><img src=\"https://colab.research.google.com/assets/colab-badge.svg\" alt=\"Open In Colab\"/></a>"
      ]
    },
    {
      "cell_type": "code",
      "source": [
        "# Banker's Algorithm in Python\n",
        "\n",
        "def is_safe(processes, available, max_need, allocation):\n",
        "    num_processes = len(processes)\n",
        "    num_resources = len(available)\n",
        "\n",
        "    # Calculate the need matrix\n",
        "    need = [[max_need[i][j] - allocation[i][j] for j in range(num_resources)] for i in range(num_processes)]\n",
        "\n",
        "    # Initialize work and finish\n",
        "    work = available[:]\n",
        "    finish = [False] * num_processes\n",
        "\n",
        "    safe_sequence = []\n",
        "\n",
        "    while len(safe_sequence) < num_processes:\n",
        "        found_process = False\n",
        "\n",
        "        for i in range(num_processes):\n",
        "            if not finish[i]:\n",
        "                # Check if the process can be allocated\n",
        "                if all(need[i][j] <= work[j] for j in range(num_resources)):\n",
        "                    # Allocate the resources to the process\n",
        "                    for j in range(num_resources):\n",
        "                        work[j] += allocation[i][j]\n",
        "                    finish[i] = True\n",
        "                    safe_sequence.append(processes[i])\n",
        "                    found_process = True\n",
        "                    break\n",
        "\n",
        "        if not found_process:\n",
        "            # No process can proceed, so the system is not in a safe state\n",
        "            return False, []\n",
        "\n",
        "    return True, safe_sequence\n",
        "\n"
      ],
      "metadata": {
        "id": "5FXk3bh3yokF"
      },
      "execution_count": null,
      "outputs": []
    },
    {
      "cell_type": "code",
      "source": [
        "#SAFE STATE EXAMPLE\n",
        "# Example input\n",
        "processes = [0, 1, 2, 3, 4]  # Process IDs\n",
        "available = [3, 3, 2]  # Available resources (A, B, C)\n",
        "\n",
        "# Max need matrix\n",
        "max_need = [\n",
        "    [7, 5, 3],\n",
        "    [3, 2, 2],\n",
        "    [9, 0, 2],\n",
        "    [2, 2, 2],\n",
        "    [4, 3, 3]\n",
        "]\n",
        "\n",
        "# Allocation matrix\n",
        "allocation = [\n",
        "    [0, 1, 0],\n",
        "    [2, 0, 0],\n",
        "    [3, 0, 2],\n",
        "    [2, 1, 1],\n",
        "    [0, 0, 2]\n",
        "]\n",
        "\n",
        "# Run the Banker's Algorithm\n",
        "is_safe_state, safe_sequence = is_safe(processes, available, max_need, allocation)\n",
        "\n",
        "if is_safe_state:\n",
        "    print(\"The system is in a safe state.\")\n",
        "    print(\"Safe Sequence:\", safe_sequence)\n",
        "else:\n",
        "    print(\"The system is NOT in a safe state.\")\n"
      ],
      "metadata": {
        "colab": {
          "base_uri": "https://localhost:8080/"
        },
        "id": "cXQyk0AOtimp",
        "outputId": "c6549369-fc33-4b18-a0c7-fbe015bea818"
      },
      "execution_count": null,
      "outputs": [
        {
          "output_type": "stream",
          "name": "stdout",
          "text": [
            "The system is in a safe state.\n",
            "Safe Sequence: [1, 3, 0, 2, 4]\n"
          ]
        }
      ]
    },
    {
      "cell_type": "code",
      "source": [
        "#UnSAFE STATE EXAMPLE\n",
        "processes = [0, 1, 2, 3]\n",
        "available = [1, 0, 0]\n",
        "\n",
        "max_need = [\n",
        "    [4, 3, 2],\n",
        "    [2, 2, 2],\n",
        "    [3, 2, 2],\n",
        "    [2, 2, 1]\n",
        "]\n",
        "\n",
        "allocation = [\n",
        "    [1, 1, 1],\n",
        "    [1, 0, 0],\n",
        "    [1, 1, 1],\n",
        "    [0, 0, 1]\n",
        "]\n",
        "# Run the Banker's Algorithm\n",
        "is_safe_state, safe_sequence = is_safe(processes, available, max_need, allocation)\n",
        "\n",
        "if is_safe_state:\n",
        "    print(\"The system is in a safe state.\")\n",
        "    print(\"Safe Sequence:\", safe_sequence)\n",
        "else:\n",
        "    print(\"The system is NOT in a safe state.\")"
      ],
      "metadata": {
        "colab": {
          "base_uri": "https://localhost:8080/"
        },
        "id": "seRIa-O_yaBP",
        "outputId": "3000e007-5289-41ea-8f57-43fe3a60fd10"
      },
      "execution_count": null,
      "outputs": [
        {
          "output_type": "stream",
          "name": "stdout",
          "text": [
            "The system is NOT in a safe state.\n"
          ]
        }
      ]
    }
  ]
}